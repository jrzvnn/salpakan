{
 "cells": [
  {
   "cell_type": "code",
   "execution_count": 21,
   "id": "65173e05-1ee6-4e2a-a3fa-3f8181d923dd",
   "metadata": {
    "tags": []
   },
   "outputs": [],
   "source": [
    "import requests\n",
    "import os\n",
    "from bs4 import BeautifulSoup"
   ]
  },
  {
   "cell_type": "code",
   "execution_count": 22,
   "id": "5a1b802e-75ce-4f18-947f-8834dd84b167",
   "metadata": {
    "tags": []
   },
   "outputs": [],
   "source": [
    "url = 'https://ggsalpakan.weebly.com/pieces.html'\n",
    "headers = {'user-agent': 'Mozilla/5.0 (Windows NT 10.0; Win64; x64) AppleWebKit/537.36 (KHTML, like Gecko) Chrome/55.0.2883.87 Safari/537.36'}\n",
    "\n",
    "response = requests.get(url, headers=headers)\n",
    "soup = BeautifulSoup(response.content, 'html.parser')"
   ]
  },
  {
   "cell_type": "code",
   "execution_count": 23,
   "id": "56952cf3-dfde-4ede-bafc-52b6cffdd2a7",
   "metadata": {
    "tags": []
   },
   "outputs": [],
   "source": [
    "# Find all meta tags with property attribute set to 'og:image'\n",
    "meta_tags = soup.find_all('meta', property='og:image')\n",
    "\n",
    "# Create a directory to store the downloaded images\n",
    "directory = 'assset/images'\n",
    "if not os.path.exists(directory):\n",
    "    os.makedirs(directory)\n",
    "\n",
    "# Download each image\n",
    "for index, meta_tag in enumerate(meta_tags):\n",
    "    image_url = meta_tag['content']\n",
    "    response = requests.get(image_url)\n",
    "    image_name = f'image{index + 1}.png'\n",
    "    image_path = os.path.join(directory, image_name)\n",
    "    with open(image_path, 'wb') as image_file:\n",
    "        image_file.write(response.content)"
   ]
  },
  {
   "cell_type": "code",
   "execution_count": null,
   "id": "1d1cf6b8-d1da-4d7d-b4a0-ff4885f0a496",
   "metadata": {},
   "outputs": [],
   "source": []
  }
 ],
 "metadata": {
  "kernelspec": {
   "display_name": "Python 3 (ipykernel)",
   "language": "python",
   "name": "python3"
  },
  "language_info": {
   "codemirror_mode": {
    "name": "ipython",
    "version": 3
   },
   "file_extension": ".py",
   "mimetype": "text/x-python",
   "name": "python",
   "nbconvert_exporter": "python",
   "pygments_lexer": "ipython3",
   "version": "3.10.9"
  }
 },
 "nbformat": 4,
 "nbformat_minor": 5
}
